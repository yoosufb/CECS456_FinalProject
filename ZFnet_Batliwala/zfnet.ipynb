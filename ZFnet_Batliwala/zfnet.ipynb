{
  "cells": [
    {
      "cell_type": "code",
      "execution_count": 1,
      "metadata": {
        "colab": {
          "base_uri": "https://localhost:8080/"
        },
        "id": "Iz9DF8BRRf3Q",
        "outputId": "e0e25b72-9160-40cf-9afb-22e86d132730"
      },
      "outputs": [
        {
          "output_type": "stream",
          "name": "stdout",
          "text": [
            "2.9.2\n"
          ]
        }
      ],
      "source": [
        "import numpy as np\n",
        "import tensorflow as tf\n",
        "import matplotlib.pyplot as plt\n",
        "import sklearn as sklearn\n",
        "import seaborn as sns\n",
        "import pandas as pd\n",
        "\n",
        "print(tf.__version__)"
      ]
    },
    {
      "cell_type": "code",
      "source": [
        "gpu_info = !nvidia-smi\n",
        "gpu_info = '\\n'.join(gpu_info)\n",
        "if gpu_info.find('failed') >= 0:\n",
        "  print('Not connected to a GPU')\n",
        "else:\n",
        "  print(gpu_info)"
      ],
      "metadata": {
        "colab": {
          "base_uri": "https://localhost:8080/"
        },
        "id": "B4E6XHj4U8Yj",
        "outputId": "10360994-5391-46b5-de69-a7fe0008c2fb"
      },
      "execution_count": 2,
      "outputs": [
        {
          "output_type": "stream",
          "name": "stdout",
          "text": [
            "Tue Dec 13 02:00:48 2022       \n",
            "+-----------------------------------------------------------------------------+\n",
            "| NVIDIA-SMI 460.32.03    Driver Version: 460.32.03    CUDA Version: 11.2     |\n",
            "|-------------------------------+----------------------+----------------------+\n",
            "| GPU  Name        Persistence-M| Bus-Id        Disp.A | Volatile Uncorr. ECC |\n",
            "| Fan  Temp  Perf  Pwr:Usage/Cap|         Memory-Usage | GPU-Util  Compute M. |\n",
            "|                               |                      |               MIG M. |\n",
            "|===============================+======================+======================|\n",
            "|   0  A100-SXM4-40GB      Off  | 00000000:00:04.0 Off |                    0 |\n",
            "| N/A   33C    P0    50W / 400W |      0MiB / 40536MiB |      0%      Default |\n",
            "|                               |                      |             Disabled |\n",
            "+-------------------------------+----------------------+----------------------+\n",
            "                                                                               \n",
            "+-----------------------------------------------------------------------------+\n",
            "| Processes:                                                                  |\n",
            "|  GPU   GI   CI        PID   Type   Process name                  GPU Memory |\n",
            "|        ID   ID                                                   Usage      |\n",
            "|=============================================================================|\n",
            "|  No running processes found                                                 |\n",
            "+-----------------------------------------------------------------------------+\n"
          ]
        }
      ]
    },
    {
      "cell_type": "code",
      "source": [
        "from google.colab import drive\n",
        "drive.mount('/content/drive')"
      ],
      "metadata": {
        "colab": {
          "base_uri": "https://localhost:8080/"
        },
        "id": "ZFUdApP3Sdzv",
        "outputId": "0eef6ada-22c1-4e56-ff42-9b562e0ae5a5"
      },
      "execution_count": 3,
      "outputs": [
        {
          "output_type": "stream",
          "name": "stdout",
          "text": [
            "Mounted at /content/drive\n"
          ]
        }
      ]
    },
    {
      "cell_type": "code",
      "execution_count": 4,
      "metadata": {
        "colab": {
          "base_uri": "https://localhost:8080/"
        },
        "id": "WCndpQzYRf3T",
        "outputId": "939b9af8-60fe-4641-c905-c4365efc0306"
      },
      "outputs": [
        {
          "output_type": "stream",
          "name": "stdout",
          "text": [
            "Found 2682 files belonging to 2 classes.\n",
            "Found 16 files belonging to 2 classes.\n",
            "Found 624 files belonging to 2 classes.\n",
            "['NORMAL', 'PNEUMONIA']\n",
            "['NORMAL', 'PNEUMONIA']\n",
            "['NORMAL', 'PNEUMONIA']\n"
          ]
        }
      ],
      "source": [
        "\n",
        "from pathlib import Path\n",
        "\n",
        "local_dir = Path().cwd()\n",
        "train_dir = local_dir / 'drive/My Drive/CECS456-Final_Project/train'\n",
        "test_dir = local_dir / 'drive/My Drive/CECS456-Final_Project/test'\n",
        "val_dir = local_dir / 'drive/My Drive/CECS456-Final_Project/val'\n",
        "\n",
        "#Reads the data from disk\n",
        "train_ds = tf.keras.utils.image_dataset_from_directory(train_dir, seed=123)\n",
        "val_ds = tf.keras.utils.image_dataset_from_directory(val_dir, seed=123)\n",
        "test_ds = tf.keras.utils.image_dataset_from_directory(test_dir, seed=123)\n",
        "\n",
        "print(train_ds.class_names)\n",
        "print(val_ds.class_names)\n",
        "print(test_ds.class_names)\n",
        "\n"
      ]
    },
    {
      "cell_type": "code",
      "execution_count": 5,
      "metadata": {
        "colab": {
          "base_uri": "https://localhost:8080/"
        },
        "id": "hjSWDR8TRf3U",
        "outputId": "d4c310b9-ec19-41ab-e50f-4566de6342c1"
      },
      "outputs": [
        {
          "output_type": "stream",
          "name": "stdout",
          "text": [
            "(32, 256, 256, 3)\n",
            "(32,)\n"
          ]
        }
      ],
      "source": [
        "# prints the shape of the training dataset\n",
        "for image_batch, labels_batch in train_ds:\n",
        "    print(image_batch.shape)\n",
        "    print(labels_batch.shape)\n",
        "    break\n"
      ]
    },
    {
      "cell_type": "code",
      "execution_count": 6,
      "metadata": {
        "id": "7Bqc9NLpRf3V"
      },
      "outputs": [],
      "source": [
        "# Processes and augments the data\n",
        "resize_rescale = tf.keras.Sequential([\n",
        "    tf.keras.layers.experimental.preprocessing.Resizing(256, 256),\n",
        "    tf.keras.layers.experimental.preprocessing.Rescaling(1.0/127.5)\n",
        "])\n",
        "data_aug = tf.keras.Sequential([\n",
        "      tf.keras.layers.RandomFlip(\"horizontal_and_vertical\"),\n",
        "      tf.keras.layers.RandomRotation(0.2),\n",
        "      tf.keras.layers.RandomContrast(0.5),\n",
        "      tf.keras.layers.RandomCrop(127,255)\n",
        "])\n",
        "\n"
      ]
    },
    {
      "cell_type": "code",
      "execution_count": 7,
      "metadata": {
        "id": "cMZkPCMxRf3V"
      },
      "outputs": [],
      "source": [
        "# Configure the dataset for performance\n",
        "AUTOTUNE = tf.data.AUTOTUNE\n",
        "train_ds = train_ds.cache().prefetch(buffer_size=AUTOTUNE)\n",
        "val_ds= val_ds.cache().prefetch(buffer_size=AUTOTUNE)"
      ]
    },
    {
      "cell_type": "code",
      "execution_count": 8,
      "metadata": {
        "id": "P0tILxtcRf3W"
      },
      "outputs": [],
      "source": [
        "# Building the network\n",
        "num_classes = 2\n",
        "model = tf.keras.Sequential([\n",
        "  data_aug,\n",
        "  resize_rescale,\n",
        "  tf.keras.layers.Conv2D(96, 7, strides = 2),\n",
        "  tf.keras.layers.Activation('relu'),\n",
        "  tf.keras.layers.MaxPooling2D(3, strides = 2),\n",
        "  tf.keras.layers.Lambda(tf.image.per_image_standardization),\n",
        "  tf.keras.layers.Conv2D(256, 3),\n",
        "  tf.keras.layers.Lambda(tf.image.per_image_standardization),\n",
        "  tf.keras.layers.Activation('relu'),\n",
        "  tf.keras.layers.MaxPooling2D(3, strides = 2),\n",
        "  tf.keras.layers.Conv2D(384, 3, strides = 1),\n",
        "  tf.keras.layers.Activation('relu'),\n",
        "  tf.keras.layers.Conv2D(384, 3, strides = 1),\n",
        "  tf.keras.layers.Activation('relu'),\n",
        "  tf.keras.layers.Conv2D(256, 3),\n",
        "  tf.keras.layers.Activation('relu'),\n",
        "  tf.keras.layers.MaxPooling2D(3, strides = 2),\n",
        "  tf.keras.layers.Lambda(tf.image.per_image_standardization),\n",
        "  tf.keras.layers.Flatten(),\n",
        "  tf.keras.layers.Dense(4096),\n",
        "  tf.keras.layers.Activation('relu'),\n",
        "  tf.keras.layers.Dropout(0.5),\n",
        "  tf.keras.layers.Dense(4096),\n",
        "  tf.keras.layers.Activation('relu'),\n",
        "  tf.keras.layers.Dropout(0.5),\n",
        "  tf.keras.layers.Dense(num_classes, activation='softmax'),\n",
        "])"
      ]
    },
    {
      "cell_type": "code",
      "execution_count": 9,
      "metadata": {
        "id": "_3dgPjjbRf3W"
      },
      "outputs": [],
      "source": [
        "# Compile the model and include metrics\n",
        "model.compile(\n",
        "  optimizer=tf.keras.optimizers.Adam(learning_rate=0.0001),\n",
        "  loss=tf.keras.losses.SparseCategoricalCrossentropy(from_logits=True),\n",
        "  metrics=['accuracy'])"
      ]
    },
    {
      "cell_type": "code",
      "execution_count": 11,
      "metadata": {
        "id": "COrgc8zgRf3X",
        "outputId": "47054196-d996-4f6b-ff8b-a067a9e8828d",
        "colab": {
          "base_uri": "https://localhost:8080/"
        }
      },
      "outputs": [
        {
          "output_type": "stream",
          "name": "stdout",
          "text": [
            "Epoch 1/20\n",
            "84/84 [==============================] - 11s 132ms/step - loss: 0.3659 - accuracy: 0.8486 - val_loss: 0.7884 - val_accuracy: 0.5625\n",
            "Epoch 2/20\n",
            "84/84 [==============================] - 11s 131ms/step - loss: 0.3638 - accuracy: 0.8490 - val_loss: 0.6012 - val_accuracy: 0.4375\n",
            "Epoch 3/20\n",
            "84/84 [==============================] - 11s 134ms/step - loss: 0.3491 - accuracy: 0.8587 - val_loss: 0.9474 - val_accuracy: 0.5625\n",
            "Epoch 4/20\n",
            "84/84 [==============================] - 11s 134ms/step - loss: 0.3493 - accuracy: 0.8680 - val_loss: 0.7948 - val_accuracy: 0.5625\n",
            "Epoch 5/20\n",
            "84/84 [==============================] - 11s 134ms/step - loss: 0.3507 - accuracy: 0.8546 - val_loss: 0.7608 - val_accuracy: 0.5625\n",
            "Epoch 6/20\n",
            "84/84 [==============================] - 11s 135ms/step - loss: 0.3480 - accuracy: 0.8613 - val_loss: 0.7036 - val_accuracy: 0.5625\n",
            "Epoch 7/20\n",
            "84/84 [==============================] - 11s 133ms/step - loss: 0.3551 - accuracy: 0.8594 - val_loss: 0.5999 - val_accuracy: 0.5625\n",
            "Epoch 8/20\n",
            "84/84 [==============================] - 11s 134ms/step - loss: 0.3701 - accuracy: 0.8553 - val_loss: 0.6906 - val_accuracy: 0.5625\n",
            "Epoch 9/20\n",
            "84/84 [==============================] - 11s 132ms/step - loss: 0.3527 - accuracy: 0.8591 - val_loss: 0.6966 - val_accuracy: 0.5625\n",
            "Epoch 10/20\n",
            "84/84 [==============================] - 11s 132ms/step - loss: 0.3378 - accuracy: 0.8632 - val_loss: 0.8011 - val_accuracy: 0.5625\n",
            "Epoch 11/20\n",
            "84/84 [==============================] - 11s 132ms/step - loss: 0.3305 - accuracy: 0.8632 - val_loss: 0.7861 - val_accuracy: 0.5625\n",
            "Epoch 12/20\n",
            "84/84 [==============================] - 11s 131ms/step - loss: 0.3148 - accuracy: 0.8688 - val_loss: 0.8596 - val_accuracy: 0.5625\n",
            "Epoch 13/20\n",
            "84/84 [==============================] - 11s 131ms/step - loss: 0.3310 - accuracy: 0.8676 - val_loss: 0.9798 - val_accuracy: 0.6250\n",
            "Epoch 14/20\n",
            "84/84 [==============================] - 11s 132ms/step - loss: 0.3362 - accuracy: 0.8639 - val_loss: 1.2103 - val_accuracy: 0.5625\n",
            "Epoch 15/20\n",
            "84/84 [==============================] - 11s 132ms/step - loss: 0.2969 - accuracy: 0.8799 - val_loss: 1.0224 - val_accuracy: 0.5625\n",
            "Epoch 16/20\n",
            "84/84 [==============================] - 11s 135ms/step - loss: 0.3259 - accuracy: 0.8714 - val_loss: 0.9726 - val_accuracy: 0.5625\n",
            "Epoch 17/20\n",
            "84/84 [==============================] - 11s 134ms/step - loss: 0.3365 - accuracy: 0.8658 - val_loss: 0.8250 - val_accuracy: 0.5625\n",
            "Epoch 18/20\n",
            "84/84 [==============================] - 11s 132ms/step - loss: 0.3055 - accuracy: 0.8840 - val_loss: 1.6099 - val_accuracy: 0.6250\n",
            "Epoch 19/20\n",
            "84/84 [==============================] - 11s 132ms/step - loss: 0.3155 - accuracy: 0.8807 - val_loss: 0.6903 - val_accuracy: 0.5625\n",
            "Epoch 20/20\n",
            "84/84 [==============================] - 11s 132ms/step - loss: 0.3208 - accuracy: 0.8695 - val_loss: 0.8395 - val_accuracy: 0.6250\n"
          ]
        }
      ],
      "source": [
        "# Training the network\n",
        "history = model.fit(\n",
        "  train_ds,\n",
        "  validation_data=val_ds,\n",
        "  batch_size = 128,\n",
        "  epochs=100\n",
        ")"
      ]
    },
    {
      "cell_type": "code",
      "source": [
        "# #Image visualization of zfnet model\n",
        "model.summary()\n"
      ],
      "metadata": {
        "colab": {
          "base_uri": "https://localhost:8080/"
        },
        "id": "u9QOJY2dO-0h",
        "outputId": "2335ae31-ad41-4e46-b648-0078a25fdc3e"
      },
      "execution_count": 12,
      "outputs": [
        {
          "output_type": "stream",
          "name": "stdout",
          "text": [
            "Model: \"sequential_2\"\n",
            "_________________________________________________________________\n",
            " Layer (type)                Output Shape              Param #   \n",
            "=================================================================\n",
            " sequential_1 (Sequential)   (None, 127, 255, 3)       0         \n",
            "                                                                 \n",
            " sequential (Sequential)     (None, 256, 256, 3)       0         \n",
            "                                                                 \n",
            " conv2d (Conv2D)             (None, 125, 125, 96)      14208     \n",
            "                                                                 \n",
            " activation (Activation)     (None, 125, 125, 96)      0         \n",
            "                                                                 \n",
            " max_pooling2d (MaxPooling2D  (None, 62, 62, 96)       0         \n",
            " )                                                               \n",
            "                                                                 \n",
            " lambda (Lambda)             (None, 62, 62, 96)        0         \n",
            "                                                                 \n",
            " conv2d_1 (Conv2D)           (None, 60, 60, 256)       221440    \n",
            "                                                                 \n",
            " lambda_1 (Lambda)           (None, 60, 60, 256)       0         \n",
            "                                                                 \n",
            " activation_1 (Activation)   (None, 60, 60, 256)       0         \n",
            "                                                                 \n",
            " max_pooling2d_1 (MaxPooling  (None, 29, 29, 256)      0         \n",
            " 2D)                                                             \n",
            "                                                                 \n",
            " conv2d_2 (Conv2D)           (None, 27, 27, 384)       885120    \n",
            "                                                                 \n",
            " activation_2 (Activation)   (None, 27, 27, 384)       0         \n",
            "                                                                 \n",
            " conv2d_3 (Conv2D)           (None, 25, 25, 384)       1327488   \n",
            "                                                                 \n",
            " activation_3 (Activation)   (None, 25, 25, 384)       0         \n",
            "                                                                 \n",
            " conv2d_4 (Conv2D)           (None, 23, 23, 256)       884992    \n",
            "                                                                 \n",
            " activation_4 (Activation)   (None, 23, 23, 256)       0         \n",
            "                                                                 \n",
            " max_pooling2d_2 (MaxPooling  (None, 11, 11, 256)      0         \n",
            " 2D)                                                             \n",
            "                                                                 \n",
            " lambda_2 (Lambda)           (None, 11, 11, 256)       0         \n",
            "                                                                 \n",
            " flatten (Flatten)           (None, 30976)             0         \n",
            "                                                                 \n",
            " dense (Dense)               (None, 4096)              126881792 \n",
            "                                                                 \n",
            " activation_5 (Activation)   (None, 4096)              0         \n",
            "                                                                 \n",
            " dropout (Dropout)           (None, 4096)              0         \n",
            "                                                                 \n",
            " dense_1 (Dense)             (None, 4096)              16781312  \n",
            "                                                                 \n",
            " activation_6 (Activation)   (None, 4096)              0         \n",
            "                                                                 \n",
            " dropout_1 (Dropout)         (None, 4096)              0         \n",
            "                                                                 \n",
            " dense_2 (Dense)             (None, 2)                 8194      \n",
            "                                                                 \n",
            "=================================================================\n",
            "Total params: 147,004,546\n",
            "Trainable params: 147,004,546\n",
            "Non-trainable params: 0\n",
            "_________________________________________________________________\n"
          ]
        }
      ]
    },
    {
      "cell_type": "code",
      "execution_count": 13,
      "metadata": {
        "id": "zEUK1XWQRf3X",
        "outputId": "316bed56-9583-4227-a277-965f766dce97",
        "colab": {
          "base_uri": "https://localhost:8080/"
        }
      },
      "outputs": [
        {
          "output_type": "stream",
          "name": "stdout",
          "text": [
            "20/20 [==============================] - 56s 1s/step - loss: 0.3389 - accuracy: 0.8622\n",
            "84/84 [==============================] - 1s 16ms/step - loss: 0.3158 - accuracy: 0.8867\n",
            "1/1 [==============================] - 0s 14ms/step - loss: 0.8395 - accuracy: 0.6250\n"
          ]
        }
      ],
      "source": [
        "# Evaluate the model on each dataset, if desired\n",
        "score = model.evaluate(test_ds)\n",
        "score1 = model.evaluate(train_ds)\n",
        "score2 = model.evaluate(val_ds)"
      ]
    },
    {
      "cell_type": "code",
      "execution_count": 14,
      "metadata": {
        "id": "DBRnosFFRf3Y",
        "outputId": "5728bab4-9acf-41b3-836a-0bab148ec135",
        "colab": {
          "base_uri": "https://localhost:8080/"
        }
      },
      "outputs": [
        {
          "output_type": "stream",
          "name": "stdout",
          "text": [
            "[0.338936448097229, 0.8621794581413269]\n",
            "[0.31580662727355957, 0.8866517543792725]\n",
            "[0.8395440578460693, 0.625]\n"
          ]
        }
      ],
      "source": [
        "# Print the score of each evaluation\n",
        "print(score)\n",
        "print(score1)\n",
        "print(score2)"
      ]
    },
    {
      "cell_type": "code",
      "source": [
        "# Prediction on the test dataset\n",
        "prediction = model.predict(test_ds)"
      ],
      "metadata": {
        "colab": {
          "base_uri": "https://localhost:8080/"
        },
        "id": "AL_2YZDlOt2I",
        "outputId": "64456649-1269-426c-8cbb-166e0360ac5d"
      },
      "execution_count": 15,
      "outputs": [
        {
          "output_type": "stream",
          "name": "stdout",
          "text": [
            "20/20 [==============================] - 1s 30ms/step\n"
          ]
        }
      ]
    },
    {
      "cell_type": "code",
      "source": [
        "# Creating the confusion matrix\n",
        "true_pos = 0\n",
        "false_pos = 0\n",
        "true_neg = 0\n",
        "false_neg = 0\n",
        "\n",
        "for X, y in test_ds:\n",
        "    batch_pred = model.predict(X, batch_size=32)\n",
        "    for i in range(len(batch_pred)):\n",
        "        p = np.argmax(batch_pred[i])\n",
        "        if p == 1 and y[i] == 1:\n",
        "            true_pos += 1\n",
        "        elif p == 1 and y[i] != 1:\n",
        "            false_pos += 1\n",
        "        elif p == 0 and y[i] == 0:\n",
        "            true_neg += 1\n",
        "        else: \n",
        "            false_neg += 1\n",
        "cn_accuracy = (true_neg + true_pos)/(true_neg+false_pos+true_pos+false_neg)\n",
        "print(f'True Pos: {true_pos}')\n",
        "print(f'False Pos: {false_pos}')\n",
        "print(f'True Neg: {true_neg}')\n",
        "print(f'False Neg: {false_neg}')\n",
        "print(f'Accuracy: {cn_accuracy}')"
      ],
      "metadata": {
        "colab": {
          "base_uri": "https://localhost:8080/"
        },
        "id": "2s-fmypUOtmz",
        "outputId": "e12bc740-5105-490d-af3e-381644c4ebd9"
      },
      "execution_count": 16,
      "outputs": [
        {
          "output_type": "stream",
          "name": "stdout",
          "text": [
            "1/1 [==============================] - 0s 193ms/step\n",
            "1/1 [==============================] - 0s 28ms/step\n",
            "1/1 [==============================] - 0s 44ms/step\n",
            "1/1 [==============================] - 0s 29ms/step\n",
            "1/1 [==============================] - 0s 37ms/step\n",
            "1/1 [==============================] - 0s 31ms/step\n",
            "1/1 [==============================] - 0s 33ms/step\n",
            "1/1 [==============================] - 0s 36ms/step\n",
            "1/1 [==============================] - 0s 30ms/step\n",
            "1/1 [==============================] - 0s 31ms/step\n",
            "1/1 [==============================] - 0s 33ms/step\n",
            "1/1 [==============================] - 0s 27ms/step\n",
            "1/1 [==============================] - 0s 26ms/step\n",
            "1/1 [==============================] - 0s 28ms/step\n",
            "1/1 [==============================] - 0s 27ms/step\n",
            "1/1 [==============================] - 0s 27ms/step\n",
            "1/1 [==============================] - 0s 35ms/step\n",
            "1/1 [==============================] - 0s 35ms/step\n",
            "1/1 [==============================] - 0s 27ms/step\n",
            "1/1 [==============================] - 0s 194ms/step\n",
            "True Pos: 331\n",
            "False Pos: 27\n",
            "True Neg: 207\n",
            "False Neg: 59\n",
            "Accuracy: 0.8621794871794872\n"
          ]
        }
      ]
    },
    {
      "cell_type": "code",
      "source": [
        "# Plot the accuracy and loss\n",
        "\n",
        "import matplotlib.pyplot as plt\n",
        "\n",
        "acc = history.history['accuracy']\n",
        "val_acc = history.history['val_accuracy']\n",
        "loss = history.history['loss']\n",
        "val_loss = history.history['val_loss']\n",
        "\n",
        "epochs = range(len(acc))\n",
        "\n",
        "plt.plot(epochs, acc, 'bo', label='Training accuracy')\n",
        "plt.plot(epochs, val_acc, 'b', label='Validation accuracy')\n",
        "plt.title('Training and validation accuracy')\n",
        "plt.legend()\n",
        "\n",
        "plt.figure()\n",
        "\n",
        "plt.plot(epochs, loss, 'bo', label='Training Loss')\n",
        "plt.plot(epochs, val_loss, 'b', label='Validation Loss')\n",
        "plt.title('Training and validation loss')\n",
        "plt.legend()\n",
        "\n",
        "plt.show()"
      ],
      "metadata": {
        "colab": {
          "base_uri": "https://localhost:8080/",
          "height": 545
        },
        "id": "PTuKEbRAPpKu",
        "outputId": "6a858a50-422e-4b6b-9170-5613e5da3965"
      },
      "execution_count": 17,
      "outputs": [
        {
          "output_type": "display_data",
          "data": {
            "text/plain": [
              "<Figure size 432x288 with 1 Axes>"
            ],
            "image/png": "[encoded data removed]"
          },
          "metadata": {
            "needs_background": "light"
          }
        },
        {
          "output_type": "display_data",
          "data": {
            "text/plain": [
              "<Figure size 432x288 with 1 Axes>"
            ],
            "image/png": "[encoded data removed]"
          },
          "metadata": {
            "needs_background": "light"
          }
        }
      ]
    },
    {
      "cell_type": "code",
      "source": [
        "# Save the model, if desired\n",
        "# model.save('drive/My Drive/CECS456-Final_Project/zfnet_91_100epoch')"
      ],
      "metadata": {
        "id": "fIFTYh3auTmr"
      },
      "execution_count": null,
      "outputs": []
    },
    {
      "cell_type": "code",
      "source": [
        "#Load the model, if desired\n",
        "\n",
        "# from tensorflow.keras.models import load_model\n",
        "# model = load_model('drive/My Drive/CECS456-Final_Project/zfnet_78')"
      ],
      "metadata": {
        "id": "x2gOkVOmkez2"
      },
      "execution_count": null,
      "outputs": []
    }
  ],
  "metadata": {
    "kernelspec": {
      "display_name": "Python 3.10.6 ('venv': venv)",
      "language": "python",
      "name": "python3"
    },
    "language_info": {
      "codemirror_mode": {
        "name": "ipython",
        "version": 3
      },
      "file_extension": ".py",
      "mimetype": "text/x-python",
      "name": "python",
      "nbconvert_exporter": "python",
      "pygments_lexer": "ipython3",
      "version": "3.10.6"
    },
    "orig_nbformat": 4,
    "vscode": {
      "interpreter": {
        "hash": "a6249b961082d366c7aea2f36fb098140763d015244db7e7b3bc91203ca6bf9b"
      }
    },
    "colab": {
      "provenance": []
    },
    "accelerator": "GPU",
    "gpuClass": "premium"
  },
  "nbformat": 4,
  "nbformat_minor": 0
}