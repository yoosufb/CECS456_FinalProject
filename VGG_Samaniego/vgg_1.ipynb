{
 "cells": [
  {
   "cell_type": "code",
   "execution_count": 73,
   "metadata": {},
   "outputs": [
    {
     "name": "stdout",
     "output_type": "stream",
     "text": [
      "2.11.0\n"
     ]
    }
   ],
   "source": [
    "import numpy as np\n",
    "import tensorflow as tf\n",
    "\n",
    "print(tf.__version__)"
   ]
  },
  {
   "cell_type": "code",
   "execution_count": 74,
   "metadata": {},
   "outputs": [
    {
     "name": "stdout",
     "output_type": "stream",
     "text": [
      "Found 3045 files belonging to 2 classes.\n",
      "Found 16 files belonging to 2 classes.\n",
      "Found 624 files belonging to 2 classes.\n",
      "['NORMAL', 'PNEUMONIA']\n",
      "['NORMAL', 'PNEUMONIA']\n",
      "['NORMAL', 'PNEUMONIA']\n"
     ]
    }
   ],
   "source": [
    "\n",
    "from pathlib import Path\n",
    "\n",
    "local_dir = Path().cwd()\n",
    "train_dir = local_dir / 'data/train/'\n",
    "test_dir = local_dir / 'data/test/'\n",
    "val_dir = local_dir / 'data/val/'\n",
    "\n",
    "#Reads the data from disk\n",
    "train_ds = tf.keras.utils.image_dataset_from_directory(train_dir, image_size=(224, 224), seed=123)\n",
    "val_ds = tf.keras.utils.image_dataset_from_directory(val_dir, image_size=(224, 224), seed=123)\n",
    "test_ds = tf.keras.utils.image_dataset_from_directory(test_dir, image_size=(224, 224), seed=123)\n",
    "\n",
    "print(train_ds.class_names)\n",
    "print(val_ds.class_names)\n",
    "print(test_ds.class_names)\n",
    "\n"
   ]
  },
  {
   "cell_type": "code",
   "execution_count": 75,
   "metadata": {},
   "outputs": [],
   "source": [
    "data_augmentation = tf.keras.Sequential([\n",
    "    tf.keras.layers.RandomFlip(\"horizontal_and_vertical\", seed=123),\n",
    "    tf.keras.layers.RandomRotation(0.2)\n",
    "])"
   ]
  },
  {
   "cell_type": "code",
   "execution_count": 76,
   "metadata": {},
   "outputs": [
    {
     "name": "stdout",
     "output_type": "stream",
     "text": [
      "(32, 224, 224, 3)\n",
      "(32,)\n"
     ]
    }
   ],
   "source": [
    "# prints the shape of the training dataset\n",
    "for image_batch, labels_batch in train_ds:\n",
    "    print(image_batch.shape)\n",
    "    print(labels_batch.shape)\n",
    "    break"
   ]
  },
  {
   "cell_type": "code",
   "execution_count": 77,
   "metadata": {},
   "outputs": [
    {
     "name": "stdout",
     "output_type": "stream",
     "text": [
      "(32, 224, 224, 3)\n",
      "(32,)\n"
     ]
    }
   ],
   "source": [
    "# prints the shape of the training dataset\n",
    "for image_batch, labels_batch in train_ds:\n",
    "    print(image_batch.shape)\n",
    "    print(labels_batch.shape)\n",
    "    break"
   ]
  },
  {
   "cell_type": "code",
   "execution_count": 78,
   "metadata": {},
   "outputs": [],
   "source": [
    "# Configure the dataset for performance\n",
    "AUTOTUNE = tf.data.AUTOTUNE\n",
    "\n",
    "train_ds_norm = train_ds.cache().prefetch(buffer_size=AUTOTUNE)\n",
    "val_ds_norm = val_ds.cache().prefetch(buffer_size=AUTOTUNE)"
   ]
  },
  {
   "cell_type": "code",
   "execution_count": 79,
   "metadata": {},
   "outputs": [],
   "source": [
    "# Building the network\n",
    "NUM_CLASSES = 2\n",
    "\n",
    "model = tf.keras.Sequential([\n",
    "  tf.keras.layers.Rescaling(1./255),\n",
    "  tf.keras.layers.Conv2D(64, 3, strides=1, padding='same', activation='relu'),\n",
    "  tf.keras.layers.MaxPool2D(2, strides=2),\n",
    "  tf.keras.layers.Conv2D(128, 3, strides=1, padding='same', activation='relu'),\n",
    "  tf.keras.layers.MaxPool2D(2, strides=2),\n",
    "  tf.keras.layers.Conv2D(256, 3, strides=1, padding='same', activation='relu'),\n",
    "  tf.keras.layers.MaxPool2D(2, strides=2),\n",
    "  tf.keras.layers.Conv2D(512, 3, strides=1, padding='same', activation='relu'),\n",
    "  tf.keras.layers.MaxPool2D(2, strides=2),\n",
    "  tf.keras.layers.Conv2D(512, 3, strides=1, padding='same', activation='relu'),\n",
    "  tf.keras.layers.MaxPool2D(2, strides=2),\n",
    "  tf.keras.layers.Flatten(),\n",
    "  tf.keras.layers.Dense(128, activation='relu'),\n",
    "  tf.keras.layers.Dropout(0.5),\n",
    "  tf.keras.layers.Dense(NUM_CLASSES)\n",
    "])"
   ]
  },
  {
   "cell_type": "code",
   "execution_count": 80,
   "metadata": {},
   "outputs": [],
   "source": [
    "model.compile(\n",
    "  optimizer='adam',\n",
    "  loss=tf.keras.losses.SparseCategoricalCrossentropy(from_logits=True),\n",
    "  metrics=['accuracy'])"
   ]
  },
  {
   "cell_type": "code",
   "execution_count": 81,
   "metadata": {},
   "outputs": [
    {
     "name": "stdout",
     "output_type": "stream",
     "text": [
      "Epoch 1/40\n",
      "96/96 [==============================] - 394s 4s/step - loss: 0.4997 - accuracy: 0.7911 - val_loss: 0.3371 - val_accuracy: 0.8125\n",
      "Epoch 2/40\n",
      "96/96 [==============================] - 407s 4s/step - loss: 0.1767 - accuracy: 0.9333 - val_loss: 0.3214 - val_accuracy: 0.9375\n",
      "Epoch 3/40\n",
      "96/96 [==============================] - 397s 4s/step - loss: 0.1200 - accuracy: 0.9580 - val_loss: 0.2221 - val_accuracy: 0.8750\n",
      "Epoch 4/40\n",
      "96/96 [==============================] - 393s 4s/step - loss: 0.0974 - accuracy: 0.9681 - val_loss: 0.3601 - val_accuracy: 0.8750\n",
      "Epoch 5/40\n",
      "96/96 [==============================] - 384s 4s/step - loss: 0.0764 - accuracy: 0.9744 - val_loss: 0.1847 - val_accuracy: 0.9375\n",
      "Epoch 6/40\n",
      "96/96 [==============================] - 374s 4s/step - loss: 0.0723 - accuracy: 0.9747 - val_loss: 0.2321 - val_accuracy: 0.8750\n",
      "Epoch 7/40\n",
      "96/96 [==============================] - 360s 4s/step - loss: 0.0652 - accuracy: 0.9741 - val_loss: 0.0832 - val_accuracy: 1.0000\n",
      "Epoch 8/40\n",
      "96/96 [==============================] - 390s 4s/step - loss: 0.0379 - accuracy: 0.9862 - val_loss: 0.0552 - val_accuracy: 1.0000\n",
      "Epoch 9/40\n",
      "96/96 [==============================] - 420s 4s/step - loss: 0.0481 - accuracy: 0.9829 - val_loss: 0.1575 - val_accuracy: 0.9375\n",
      "Epoch 10/40\n",
      "96/96 [==============================] - 401s 4s/step - loss: 0.0548 - accuracy: 0.9800 - val_loss: 0.1698 - val_accuracy: 0.8750\n",
      "Epoch 11/40\n",
      "96/96 [==============================] - 391s 4s/step - loss: 0.0261 - accuracy: 0.9892 - val_loss: 0.5364 - val_accuracy: 0.8750\n",
      "Epoch 12/40\n",
      "96/96 [==============================] - 398s 4s/step - loss: 0.0287 - accuracy: 0.9882 - val_loss: 0.0380 - val_accuracy: 1.0000\n",
      "Epoch 13/40\n",
      "96/96 [==============================] - 405s 4s/step - loss: 0.0207 - accuracy: 0.9918 - val_loss: 0.1703 - val_accuracy: 0.9375\n",
      "Epoch 14/40\n",
      "96/96 [==============================] - 380s 4s/step - loss: 0.0084 - accuracy: 0.9964 - val_loss: 0.1211 - val_accuracy: 0.9375\n",
      "Epoch 15/40\n",
      "96/96 [==============================] - 382s 4s/step - loss: 0.0769 - accuracy: 0.9777 - val_loss: 0.0785 - val_accuracy: 0.9375\n",
      "Epoch 16/40\n",
      "96/96 [==============================] - 372s 4s/step - loss: 0.0455 - accuracy: 0.9806 - val_loss: 0.5661 - val_accuracy: 0.8750\n",
      "Epoch 17/40\n",
      "96/96 [==============================] - 364s 4s/step - loss: 0.0197 - accuracy: 0.9918 - val_loss: 0.2153 - val_accuracy: 0.8750\n",
      "Epoch 18/40\n",
      "96/96 [==============================] - 361s 4s/step - loss: 0.0467 - accuracy: 0.9846 - val_loss: 0.1811 - val_accuracy: 0.8750\n",
      "Epoch 19/40\n",
      "96/96 [==============================] - 351s 4s/step - loss: 0.0103 - accuracy: 0.9957 - val_loss: 0.2603 - val_accuracy: 0.8750\n",
      "Epoch 20/40\n",
      "96/96 [==============================] - 350s 4s/step - loss: 0.0108 - accuracy: 0.9954 - val_loss: 0.5847 - val_accuracy: 0.8125\n",
      "Epoch 21/40\n",
      "96/96 [==============================] - 350s 4s/step - loss: 0.0140 - accuracy: 0.9951 - val_loss: 0.7182 - val_accuracy: 0.8750\n",
      "Epoch 22/40\n",
      "96/96 [==============================] - 350s 4s/step - loss: 0.0237 - accuracy: 0.9921 - val_loss: 0.0836 - val_accuracy: 1.0000\n",
      "Epoch 23/40\n",
      "96/96 [==============================] - 348s 4s/step - loss: 0.0196 - accuracy: 0.9921 - val_loss: 0.1073 - val_accuracy: 0.9375\n",
      "Epoch 24/40\n",
      "96/96 [==============================] - 350s 4s/step - loss: 0.0128 - accuracy: 0.9954 - val_loss: 0.0224 - val_accuracy: 1.0000\n",
      "Epoch 25/40\n",
      "96/96 [==============================] - 373s 4s/step - loss: 0.0096 - accuracy: 0.9964 - val_loss: 0.0858 - val_accuracy: 0.9375\n",
      "Epoch 26/40\n",
      "96/96 [==============================] - 374s 4s/step - loss: 0.0063 - accuracy: 0.9980 - val_loss: 0.0897 - val_accuracy: 0.9375\n",
      "Epoch 27/40\n",
      "96/96 [==============================] - 369s 4s/step - loss: 0.0174 - accuracy: 0.9951 - val_loss: 0.1346 - val_accuracy: 0.9375\n",
      "Epoch 28/40\n",
      "96/96 [==============================] - 354s 4s/step - loss: 0.0111 - accuracy: 0.9954 - val_loss: 0.2553 - val_accuracy: 0.8125\n",
      "Epoch 29/40\n",
      "96/96 [==============================] - 354s 4s/step - loss: 0.0109 - accuracy: 0.9964 - val_loss: 0.1392 - val_accuracy: 0.9375\n",
      "Epoch 30/40\n",
      "96/96 [==============================] - 356s 4s/step - loss: 0.0252 - accuracy: 0.9915 - val_loss: 0.0194 - val_accuracy: 1.0000\n",
      "Epoch 31/40\n",
      "96/96 [==============================] - 354s 4s/step - loss: 0.0022 - accuracy: 0.9993 - val_loss: 0.0498 - val_accuracy: 0.9375\n",
      "Epoch 32/40\n",
      "96/96 [==============================] - 354s 4s/step - loss: 0.0098 - accuracy: 0.9970 - val_loss: 0.0123 - val_accuracy: 1.0000\n",
      "Epoch 33/40\n",
      "96/96 [==============================] - 354s 4s/step - loss: 0.0013 - accuracy: 0.9993 - val_loss: 0.1375 - val_accuracy: 0.8750\n",
      "Epoch 34/40\n",
      "96/96 [==============================] - 354s 4s/step - loss: 7.5412e-04 - accuracy: 0.9997 - val_loss: 0.0669 - val_accuracy: 0.9375\n",
      "Epoch 35/40\n",
      "96/96 [==============================] - 355s 4s/step - loss: 4.5157e-04 - accuracy: 1.0000 - val_loss: 0.2923 - val_accuracy: 0.9375\n",
      "Epoch 36/40\n",
      "96/96 [==============================] - 358s 4s/step - loss: 6.6800e-05 - accuracy: 1.0000 - val_loss: 0.2327 - val_accuracy: 0.9375\n",
      "Epoch 37/40\n",
      "96/96 [==============================] - 378s 4s/step - loss: 9.1795e-05 - accuracy: 1.0000 - val_loss: 0.1508 - val_accuracy: 0.9375\n",
      "Epoch 38/40\n",
      "96/96 [==============================] - 378s 4s/step - loss: 3.8606e-05 - accuracy: 1.0000 - val_loss: 0.2333 - val_accuracy: 0.9375\n",
      "Epoch 39/40\n",
      "96/96 [==============================] - 369s 4s/step - loss: 3.6528e-06 - accuracy: 1.0000 - val_loss: 0.2342 - val_accuracy: 0.9375\n",
      "Epoch 40/40\n",
      "96/96 [==============================] - 358s 4s/step - loss: 4.9193e-04 - accuracy: 0.9997 - val_loss: 0.0317 - val_accuracy: 1.0000\n"
     ]
    },
    {
     "data": {
      "text/plain": [
       "<keras.callbacks.History at 0x21553ea2e30>"
      ]
     },
     "execution_count": 81,
     "metadata": {},
     "output_type": "execute_result"
    }
   ],
   "source": [
    "# Training the network\n",
    "model.fit(\n",
    "  train_ds,\n",
    "  validation_data=val_ds,\n",
    "  batch_size=64,\n",
    "  epochs=40\n",
    ")"
   ]
  },
  {
   "cell_type": "code",
   "execution_count": 82,
   "metadata": {},
   "outputs": [
    {
     "name": "stdout",
     "output_type": "stream",
     "text": [
      "20/20 [==============================] - 20s 957ms/step - loss: 4.5050 - accuracy: 0.8013\n"
     ]
    }
   ],
   "source": [
    "score = model.evaluate(test_ds)"
   ]
  },
  {
   "cell_type": "code",
   "execution_count": 83,
   "metadata": {},
   "outputs": [
    {
     "name": "stdout",
     "output_type": "stream",
     "text": [
      "[4.505031585693359, 0.8012820482254028]\n"
     ]
    }
   ],
   "source": [
    "\n",
    "print(score)"
   ]
  },
  {
   "cell_type": "code",
   "execution_count": 84,
   "metadata": {},
   "outputs": [
    {
     "name": "stderr",
     "output_type": "stream",
     "text": [
      "WARNING:absl:Found untraced functions such as _jit_compiled_convolution_op, _jit_compiled_convolution_op, _jit_compiled_convolution_op, _jit_compiled_convolution_op, _jit_compiled_convolution_op while saving (showing 5 of 6). These functions will not be directly callable after loading.\n"
     ]
    },
    {
     "name": "stdout",
     "output_type": "stream",
     "text": [
      "INFO:tensorflow:Assets written to: tfmodel\\assets\n"
     ]
    },
    {
     "name": "stderr",
     "output_type": "stream",
     "text": [
      "INFO:tensorflow:Assets written to: tfmodel\\assets\n"
     ]
    }
   ],
   "source": [
    "model.save('tfmodel')"
   ]
  }
 ],
 "metadata": {
  "kernelspec": {
   "display_name": "Python 3.10.6 ('venv': venv)",
   "language": "python",
   "name": "python3"
  },
  "language_info": {
   "codemirror_mode": {
    "name": "ipython",
    "version": 3
   },
   "file_extension": ".py",
   "mimetype": "text/x-python",
   "name": "python",
   "nbconvert_exporter": "python",
   "pygments_lexer": "ipython3",
   "version": "3.10.6"
  },
  "orig_nbformat": 4,
  "vscode": {
   "interpreter": {
    "hash": "a6249b961082d366c7aea2f36fb098140763d015244db7e7b3bc91203ca6bf9b"
   }
  }
 },
 "nbformat": 4,
 "nbformat_minor": 2
}
