{
  "cells": [
    {
      "cell_type": "code",
      "execution_count": 71,
      "metadata": {
        "id": "7d6cvdZ6QlgI"
      },
      "outputs": [],
      "source": [
        "import numpy as np\n",
        "import tensorflow as tf\n",
        "from tensorflow.keras import layers"
      ]
    },
    {
      "cell_type": "code",
      "execution_count": 72,
      "metadata": {
        "colab": {
          "base_uri": "https://localhost:8080/"
        },
        "id": "uMIc4TViQrOk",
        "outputId": "9f5736dd-5593-4f26-f698-3e81549b27da"
      },
      "outputs": [
        {
          "output_type": "stream",
          "name": "stdout",
          "text": [
            "Found 2682 files belonging to 2 classes.\n",
            "Found 624 files belonging to 2 classes.\n",
            "Found 16 files belonging to 2 classes.\n"
          ]
        }
      ],
      "source": [
        "#convert images into pandas dataframes\n",
        "from pathlib import Path\n",
        "# path after mount: drive/MyDrive/archive (2)/chest_xray/train\n",
        "#this is just us getting the data from google drive\n",
        "\n",
        "local_dir = Path.cwd()\n",
        "train_dir = local_dir / 'drive/MyDrive/archive (2)/chest_xray/train'\n",
        "test_dir = local_dir / 'drive/MyDrive/archive (2)/chest_xray/test'\n",
        "val_dir = local_dir / 'drive/MyDrive/archive (2)/chest_xray/val'\n",
        "\n",
        "\n",
        "train_ds = tf.keras.utils.image_dataset_from_directory(train_dir, seed=123, shuffle=True)\n",
        "test_ds = tf.keras.utils.image_dataset_from_directory(test_dir, seed=123)\n",
        "val_ds = tf.keras.utils.image_dataset_from_directory(val_dir, seed=123)\n"
      ]
    },
    {
      "cell_type": "code",
      "execution_count": 73,
      "metadata": {
        "id": "CKdBVIL8xuIj"
      },
      "outputs": [],
      "source": [
        "#below are the preprocessing layers\n",
        "\n",
        "# Normalizes the data\n",
        "rescale = tf.keras.Sequential([\n",
        "  layers.Rescaling(1./255.0)\n",
        "])\n",
        "\n",
        "#data augmentation, random flips and rotation of images\n",
        "data_augmentation = tf.keras.Sequential([\n",
        "  layers.RandomFlip(\"horizontal_and_vertical\"),\n",
        "  layers.RandomRotation(0.2),\n",
        "])\n",
        "\n"
      ]
    },
    {
      "cell_type": "code",
      "execution_count": 74,
      "metadata": {
        "id": "KnkNMYGOyBmI"
      },
      "outputs": [],
      "source": [
        "# Configure the dataset for performance\n",
        "AUTOTUNE = tf.data.AUTOTUNE\n",
        "\n",
        "train_ds = train_ds.cache().prefetch(buffer_size=AUTOTUNE)\n",
        "val_ds = val_ds.cache().prefetch(buffer_size=AUTOTUNE)"
      ]
    },
    {
      "cell_type": "code",
      "execution_count": 75,
      "metadata": {
        "id": "wWSkAmK8yQbO"
      },
      "outputs": [],
      "source": [
        "num_classes = 2\n",
        "model = tf.keras.models.Sequential()\n",
        "model.add(data_augmentation) #data augmentation\n",
        "model.add(rescale) #normalizing\n",
        "model.add(tf.keras.layers.Conv2D(filters=96, kernel_size=(11,11), strides=(4,4), activation='relu', input_shape=(256,256,3)))\n",
        "model.add(data_augmentation)\n",
        "model.add(tf.keras.layers.MaxPool2D(pool_size=(3,3), strides=(2,2)))\n",
        "model.add(tf.keras.layers.BatchNormalization())\n",
        "model.add(tf.keras.layers.Conv2D(filters=256, kernel_size=(5,5), strides=(1,1), activation='relu', padding=\"same\"))\n",
        "model.add(tf.keras.layers.MaxPool2D(pool_size=(3,3), strides=(2,2)))\n",
        "model.add(tf.keras.layers.BatchNormalization())\n",
        "model.add(tf.keras.layers.Conv2D(filters=384, kernel_size=(3,3), strides=(1,1), activation='relu', padding=\"same\"))\n",
        "model.add(tf.keras.layers.Conv2D(filters=384, kernel_size=(3,3), strides=(1,1), activation='relu', padding=\"same\"))\n",
        "model.add(tf.keras.layers.Conv2D(filters=256, kernel_size=(3,3), strides=(1,1), activation='relu', padding=\"same\"))\n",
        "model.add(tf.keras.layers.MaxPool2D(pool_size=(3,3), strides=(2,2)))\n",
        "model.add(tf.keras.layers.Flatten())\n",
        "model.add(tf.keras.layers.Dense(4096, activation='relu'))\n",
        "model.add(tf.keras.layers.Dropout(0.5)) #dropout added\n",
        "model.add(tf.keras.layers.Dense(4096, activation='relu'))\n",
        "# no dropout after the second FC layer\n",
        "model.add(tf.keras.layers.Dense(num_classes, activation='softmax'))"
      ]
    },
    {
      "cell_type": "code",
      "execution_count": 87,
      "metadata": {
        "colab": {
          "base_uri": "https://localhost:8080/"
        },
        "id": "iTJKaTsfyzgo",
        "outputId": "ed6a17d8-ee7b-4d65-c84c-4dfba710dcd9"
      },
      "outputs": [
        {
          "output_type": "stream",
          "name": "stdout",
          "text": [
            "Epoch 1/20\n",
            "84/84 [==============================] - 6s 62ms/step - loss: 0.1246 - accuracy: 0.9605 - val_loss: 0.8245 - val_accuracy: 0.8750\n",
            "Epoch 2/20\n",
            "84/84 [==============================] - 5s 60ms/step - loss: 0.1044 - accuracy: 0.9620 - val_loss: 0.0404 - val_accuracy: 1.0000\n",
            "Epoch 3/20\n",
            "84/84 [==============================] - 5s 60ms/step - loss: 0.0701 - accuracy: 0.9754 - val_loss: 0.0020 - val_accuracy: 1.0000\n",
            "Epoch 4/20\n",
            "84/84 [==============================] - 5s 61ms/step - loss: 0.0573 - accuracy: 0.9802 - val_loss: 0.0253 - val_accuracy: 1.0000\n",
            "Epoch 5/20\n",
            "84/84 [==============================] - 5s 61ms/step - loss: 0.0554 - accuracy: 0.9780 - val_loss: 0.0060 - val_accuracy: 1.0000\n",
            "Epoch 6/20\n",
            "84/84 [==============================] - 5s 61ms/step - loss: 0.0336 - accuracy: 0.9881 - val_loss: 0.1204 - val_accuracy: 0.9375\n",
            "Epoch 7/20\n",
            "84/84 [==============================] - 5s 61ms/step - loss: 0.0303 - accuracy: 0.9862 - val_loss: 4.5159e-04 - val_accuracy: 1.0000\n",
            "Epoch 8/20\n",
            "84/84 [==============================] - 5s 60ms/step - loss: 0.0357 - accuracy: 0.9888 - val_loss: 1.1634e-04 - val_accuracy: 1.0000\n",
            "Epoch 9/20\n",
            "84/84 [==============================] - 5s 60ms/step - loss: 0.0196 - accuracy: 0.9925 - val_loss: 9.0374e-05 - val_accuracy: 1.0000\n",
            "Epoch 10/20\n",
            "84/84 [==============================] - 5s 60ms/step - loss: 0.0217 - accuracy: 0.9918 - val_loss: 0.0144 - val_accuracy: 1.0000\n",
            "Epoch 11/20\n",
            "84/84 [==============================] - 5s 60ms/step - loss: 0.0333 - accuracy: 0.9884 - val_loss: 1.7619e-05 - val_accuracy: 1.0000\n",
            "Epoch 12/20\n",
            "84/84 [==============================] - 5s 60ms/step - loss: 0.0109 - accuracy: 0.9955 - val_loss: 0.0274 - val_accuracy: 1.0000\n",
            "Epoch 13/20\n",
            "84/84 [==============================] - 5s 60ms/step - loss: 0.0160 - accuracy: 0.9925 - val_loss: 0.0417 - val_accuracy: 1.0000\n",
            "Epoch 14/20\n",
            "84/84 [==============================] - 5s 60ms/step - loss: 0.0131 - accuracy: 0.9955 - val_loss: 8.2772e-06 - val_accuracy: 1.0000\n",
            "Epoch 15/20\n",
            "84/84 [==============================] - 5s 60ms/step - loss: 0.0248 - accuracy: 0.9914 - val_loss: 9.9092e-07 - val_accuracy: 1.0000\n",
            "Epoch 16/20\n",
            "84/84 [==============================] - 5s 60ms/step - loss: 0.0144 - accuracy: 0.9963 - val_loss: 4.2670e-05 - val_accuracy: 1.0000\n",
            "Epoch 17/20\n",
            "84/84 [==============================] - 5s 60ms/step - loss: 0.0022 - accuracy: 0.9993 - val_loss: 1.2641e-04 - val_accuracy: 1.0000\n",
            "Epoch 18/20\n",
            "84/84 [==============================] - 5s 60ms/step - loss: 8.1699e-04 - accuracy: 1.0000 - val_loss: 3.1739e-06 - val_accuracy: 1.0000\n",
            "Epoch 19/20\n",
            "84/84 [==============================] - 5s 60ms/step - loss: 0.0098 - accuracy: 0.9974 - val_loss: 0.0016 - val_accuracy: 1.0000\n",
            "Epoch 20/20\n",
            "84/84 [==============================] - 5s 60ms/step - loss: 0.0159 - accuracy: 0.9925 - val_loss: 5.0870e-05 - val_accuracy: 1.0000\n"
          ]
        }
      ],
      "source": [
        "from tensorflow.python.data.ops.dataset_ops import ShuffleDataset\n",
        "from tensorflow.keras.models import load_model\n",
        "#load weights from model 2\n",
        "model = load_model(local_dir / 'drive/MyDrive/456Project')\n",
        "\n",
        "model.compile(\n",
        "  optimizer='adam',\n",
        "  loss=tf.keras.losses.SparseCategoricalCrossentropy(from_logits=True),\n",
        "  metrics=['accuracy'])\n",
        "\n",
        "history = model.fit(  train_ds,\n",
        "  validation_data=val_ds,\n",
        "  batch_size = 128,\n",
        "  epochs=20)"
      ]
    },
    {
      "cell_type": "code",
      "execution_count": 88,
      "metadata": {
        "colab": {
          "base_uri": "https://localhost:8080/"
        },
        "id": "dp8i9NO87yN7",
        "outputId": "a09d0879-1c77-44cb-c326-0331027aa024"
      },
      "outputs": [
        {
          "output_type": "stream",
          "name": "stdout",
          "text": [
            "20/20 [==============================] - 2s 65ms/step - loss: 0.8651 - accuracy: 0.8654\n"
          ]
        }
      ],
      "source": [
        "score = model.evaluate(test_ds)"
      ]
    },
    {
      "cell_type": "code",
      "source": [
        "import matplotlib.pyplot as plt\n",
        "\n",
        "acc = history.history['accuracy']\n",
        "val_acc = history.history['val_accuracy']\n",
        "loss = history.history['loss']\n",
        "val_loss = history.history['val_loss']\n",
        "\n",
        "epochs = range(len(acc))\n",
        "\n",
        "plt.plot(epochs, acc, 'bo', label='Training accuracy')\n",
        "plt.plot(epochs, val_acc, 'b', label='Validation accuracy')\n",
        "plt.title('Training and validation accuracy')\n",
        "plt.legend()\n",
        "\n",
        "plt.figure()\n",
        "\n",
        "plt.plot(epochs, loss, 'bo', label='Training Loss')\n",
        "plt.plot(epochs, val_loss, 'b', label='Validation Loss')\n",
        "plt.title('Training and validation loss')\n",
        "plt.legend()\n",
        "\n",
        "plt.show()"
      ],
      "metadata": {
        "id": "MWtpFioeB8NV",
        "colab": {
          "base_uri": "https://localhost:8080/",
          "height": 545
        },
        "outputId": "95e3cc9b-e923-40b2-f9fa-42719f71cedd"
      },
      "execution_count": 89,
      "outputs": [
        {
          "output_type": "display_data",
          "data": {
            "text/plain": [
              "<Figure size 432x288 with 1 Axes>"
            ],
            "image/png": "[encoded data removed]"
          },
          "metadata": {
            "needs_background": "light"
          }
        },
        {
          "output_type": "display_data",
          "data": {
            "text/plain": [
              "<Figure size 432x288 with 1 Axes>"
            ],
            "image/png": "[encoded data removed]"
          },
          "metadata": {
            "needs_background": "light"
          }
        }
      ]
    }
  ],
  "metadata": {
    "accelerator": "GPU",
    "colab": {
      "machine_shape": "hm",
      "provenance": []
    },
    "gpuClass": "premium",
    "kernelspec": {
      "display_name": "Python 3",
      "name": "python3"
    },
    "language_info": {
      "name": "python"
    }
  },
  "nbformat": 4,
  "nbformat_minor": 0
}