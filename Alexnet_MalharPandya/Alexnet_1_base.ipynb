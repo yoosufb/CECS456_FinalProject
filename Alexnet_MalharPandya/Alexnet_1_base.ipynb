{
  "cells": [
    {
      "cell_type": "code",
      "execution_count": 1,
      "metadata": {
        "id": "7d6cvdZ6QlgI"
      },
      "outputs": [],
      "source": [
        "import numpy as np\n",
        "import tensorflow as tf\n",
        "from tensorflow.keras import layers"
      ]
    },
    {
      "cell_type": "code",
      "execution_count": 2,
      "metadata": {
        "colab": {
          "base_uri": "https://localhost:8080/"
        },
        "id": "uMIc4TViQrOk",
        "outputId": "e419b5dd-ce2d-4058-bad8-a1d7e26ab545"
      },
      "outputs": [
        {
          "output_type": "stream",
          "name": "stdout",
          "text": [
            "Found 2682 files belonging to 2 classes.\n",
            "Found 624 files belonging to 2 classes.\n",
            "Found 16 files belonging to 2 classes.\n"
          ]
        }
      ],
      "source": [
        "#convert images into pandas dataframes\n",
        "from pathlib import Path\n",
        "# path after mount: drive/MyDrive/archive (2)/chest_xray/train\n",
        "#this is just us getting the data from google drive\n",
        "\n",
        "local_dir = Path.cwd()\n",
        "train_dir = local_dir / 'drive/MyDrive/archive (2)/chest_xray/train'\n",
        "test_dir = local_dir / 'drive/MyDrive/archive (2)/chest_xray/test'\n",
        "val_dir = local_dir / 'drive/MyDrive/archive (2)/chest_xray/val'\n",
        "\n",
        "\n",
        "train_ds = tf.keras.utils.image_dataset_from_directory(train_dir, seed=123, shuffle=True)\n",
        "test_ds = tf.keras.utils.image_dataset_from_directory(test_dir, seed=123)\n",
        "val_ds = tf.keras.utils.image_dataset_from_directory(val_dir, seed=123)\n"
      ]
    },
    {
      "cell_type": "code",
      "execution_count": 3,
      "metadata": {
        "id": "KnkNMYGOyBmI"
      },
      "outputs": [],
      "source": [
        "# Configure the dataset for performance\n",
        "AUTOTUNE = tf.data.AUTOTUNE\n",
        "\n",
        "train_ds = train_ds.cache().prefetch(buffer_size=AUTOTUNE)\n",
        "val_ds = val_ds.cache().prefetch(buffer_size=AUTOTUNE)"
      ]
    },
    {
      "cell_type": "code",
      "execution_count": 4,
      "metadata": {
        "id": "wWSkAmK8yQbO"
      },
      "outputs": [],
      "source": [
        "num_classes = 2\n",
        "model = tf.keras.models.Sequential()\n",
        "model.add(tf.keras.layers.Conv2D(filters=96, kernel_size=(11,11), strides=(4,4), activation='relu', input_shape=(256,256,3)))\n",
        "model.add(tf.keras.layers.MaxPool2D(pool_size=(3,3), strides=(2,2)))\n",
        "model.add(tf.keras.layers.BatchNormalization())\n",
        "model.add(tf.keras.layers.Conv2D(filters=256, kernel_size=(5,5), strides=(1,1), activation='relu', padding=\"same\"))\n",
        "model.add(tf.keras.layers.MaxPool2D(pool_size=(3,3), strides=(2,2)))\n",
        "model.add(tf.keras.layers.BatchNormalization())\n",
        "model.add(tf.keras.layers.Conv2D(filters=384, kernel_size=(3,3), strides=(1,1), activation='relu', padding=\"same\"))\n",
        "model.add(tf.keras.layers.Conv2D(filters=384, kernel_size=(3,3), strides=(1,1), activation='relu', padding=\"same\"))\n",
        "model.add(tf.keras.layers.Conv2D(filters=256, kernel_size=(3,3), strides=(1,1), activation='relu', padding=\"same\"))\n",
        "model.add(tf.keras.layers.MaxPool2D(pool_size=(3,3), strides=(2,2)))\n",
        "model.add(tf.keras.layers.Flatten())\n",
        "model.add(tf.keras.layers.Dense(4096, activation='relu'))\n",
        "model.add(tf.keras.layers.Dropout(0.3)) #dropout added\n",
        "model.add(tf.keras.layers.Dense(4096, activation='relu'))\n",
        "model.add(tf.keras.layers.Dropout(0.3)) #dropout added\n",
        "model.add(tf.keras.layers.Dense(num_classes, activation='softmax'))"
      ]
    },
    {
      "cell_type": "code",
      "execution_count": 13,
      "metadata": {
        "colab": {
          "base_uri": "https://localhost:8080/"
        },
        "id": "iTJKaTsfyzgo",
        "outputId": "7407e661-9882-4491-9702-28dfa151098d"
      },
      "outputs": [
        {
          "output_type": "stream",
          "name": "stdout",
          "text": [
            "Epoch 1/20\n",
            "84/84 [==============================] - 6s 59ms/step - loss: 0.0325 - accuracy: 0.9907 - val_loss: 0.0040 - val_accuracy: 1.0000\n",
            "Epoch 2/20\n",
            "84/84 [==============================] - 5s 57ms/step - loss: 0.0405 - accuracy: 0.9937 - val_loss: 0.5173 - val_accuracy: 0.9375\n",
            "Epoch 3/20\n",
            "84/84 [==============================] - 5s 57ms/step - loss: 0.0955 - accuracy: 0.9780 - val_loss: 4.4593 - val_accuracy: 0.7500\n",
            "Epoch 4/20\n",
            "84/84 [==============================] - 5s 57ms/step - loss: 0.0594 - accuracy: 0.9840 - val_loss: 0.0019 - val_accuracy: 1.0000\n",
            "Epoch 5/20\n",
            "84/84 [==============================] - 5s 57ms/step - loss: 0.0167 - accuracy: 0.9937 - val_loss: 0.0355 - val_accuracy: 1.0000\n",
            "Epoch 6/20\n",
            "84/84 [==============================] - 5s 57ms/step - loss: 0.0155 - accuracy: 0.9948 - val_loss: 0.0079 - val_accuracy: 1.0000\n",
            "Epoch 7/20\n",
            "84/84 [==============================] - 5s 57ms/step - loss: 0.0404 - accuracy: 0.9870 - val_loss: 0.0164 - val_accuracy: 1.0000\n",
            "Epoch 8/20\n",
            "84/84 [==============================] - 5s 57ms/step - loss: 0.0315 - accuracy: 0.9929 - val_loss: 1.2431 - val_accuracy: 0.8125\n",
            "Epoch 9/20\n",
            "84/84 [==============================] - 5s 58ms/step - loss: 0.1293 - accuracy: 0.9892 - val_loss: 0.0062 - val_accuracy: 1.0000\n",
            "Epoch 10/20\n",
            "84/84 [==============================] - 5s 58ms/step - loss: 0.1292 - accuracy: 0.9724 - val_loss: 0.1078 - val_accuracy: 0.9375\n",
            "Epoch 11/20\n",
            "84/84 [==============================] - 5s 59ms/step - loss: 0.1170 - accuracy: 0.9817 - val_loss: 0.0044 - val_accuracy: 1.0000\n",
            "Epoch 12/20\n",
            "84/84 [==============================] - 5s 58ms/step - loss: 0.0569 - accuracy: 0.9836 - val_loss: 16.3365 - val_accuracy: 0.7500\n",
            "Epoch 13/20\n",
            "84/84 [==============================] - 5s 58ms/step - loss: 0.0324 - accuracy: 0.9899 - val_loss: 3.3796 - val_accuracy: 0.8125\n",
            "Epoch 14/20\n",
            "84/84 [==============================] - 5s 58ms/step - loss: 0.0154 - accuracy: 0.9948 - val_loss: 1.2590 - val_accuracy: 0.8750\n",
            "Epoch 15/20\n",
            "84/84 [==============================] - 5s 58ms/step - loss: 0.0012 - accuracy: 0.9996 - val_loss: 0.0031 - val_accuracy: 1.0000\n",
            "Epoch 16/20\n",
            "84/84 [==============================] - 5s 58ms/step - loss: 8.0149e-04 - accuracy: 0.9996 - val_loss: 1.6432e-04 - val_accuracy: 1.0000\n",
            "Epoch 17/20\n",
            "84/84 [==============================] - 5s 58ms/step - loss: 0.0162 - accuracy: 0.9985 - val_loss: 5.0960e-06 - val_accuracy: 1.0000\n",
            "Epoch 18/20\n",
            "84/84 [==============================] - 5s 58ms/step - loss: 0.2345 - accuracy: 0.9717 - val_loss: 0.0367 - val_accuracy: 1.0000\n",
            "Epoch 19/20\n",
            "84/84 [==============================] - 5s 58ms/step - loss: 0.2470 - accuracy: 0.9463 - val_loss: 0.1211 - val_accuracy: 1.0000\n",
            "Epoch 20/20\n",
            "84/84 [==============================] - 5s 58ms/step - loss: 0.1591 - accuracy: 0.9627 - val_loss: 0.1752 - val_accuracy: 0.8125\n"
          ]
        }
      ],
      "source": [
        "model.compile(\n",
        "  optimizer='adam',\n",
        "  loss=tf.keras.losses.SparseCategoricalCrossentropy(from_logits=True),\n",
        "  metrics=['accuracy'])\n",
        "\n",
        "history = model.fit(  train_ds,\n",
        "  validation_data=val_ds,\n",
        "  batch_size = 64,\n",
        "  epochs=20)"
      ]
    },
    {
      "cell_type": "code",
      "execution_count": 14,
      "metadata": {
        "colab": {
          "base_uri": "https://localhost:8080/"
        },
        "id": "dp8i9NO87yN7",
        "outputId": "5c53b8c5-3bc4-4738-c9fc-ce6a7621b08a"
      },
      "outputs": [
        {
          "output_type": "stream",
          "name": "stdout",
          "text": [
            "20/20 [==============================] - 2s 66ms/step - loss: 6.7758 - accuracy: 0.7292\n"
          ]
        }
      ],
      "source": [
        "score = model.evaluate(test_ds)"
      ]
    }
  ],
  "metadata": {
    "accelerator": "GPU",
    "colab": {
      "machine_shape": "hm",
      "provenance": []
    },
    "gpuClass": "premium",
    "kernelspec": {
      "display_name": "Python 3",
      "name": "python3"
    },
    "language_info": {
      "name": "python"
    }
  },
  "nbformat": 4,
  "nbformat_minor": 0
}