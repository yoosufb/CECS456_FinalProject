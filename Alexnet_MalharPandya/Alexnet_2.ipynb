{
  "cells": [
    {
      "cell_type": "code",
      "execution_count": 123,
      "metadata": {
        "id": "7d6cvdZ6QlgI"
      },
      "outputs": [],
      "source": [
        "import numpy as np\n",
        "import tensorflow as tf\n",
        "from tensorflow.keras import layers"
      ]
    },
    {
      "cell_type": "code",
      "execution_count": 124,
      "metadata": {
        "colab": {
          "base_uri": "https://localhost:8080/"
        },
        "id": "uMIc4TViQrOk",
        "outputId": "6e803b60-f2bc-4ce7-b696-5c674f317898"
      },
      "outputs": [
        {
          "output_type": "stream",
          "name": "stdout",
          "text": [
            "Found 2682 files belonging to 2 classes.\n",
            "Found 624 files belonging to 2 classes.\n",
            "Found 16 files belonging to 2 classes.\n"
          ]
        }
      ],
      "source": [
        "#convert images into pandas dataframes\n",
        "from pathlib import Path\n",
        "# path after mount: drive/MyDrive/archive (2)/chest_xray/train\n",
        "#this is just us getting the data from google drive\n",
        "\n",
        "local_dir = Path.cwd()\n",
        "train_dir = local_dir / 'drive/MyDrive/archive (2)/chest_xray/train'\n",
        "test_dir = local_dir / 'drive/MyDrive/archive (2)/chest_xray/test'\n",
        "val_dir = local_dir / 'drive/MyDrive/archive (2)/chest_xray/val'\n",
        "\n",
        "\n",
        "train_ds = tf.keras.utils.image_dataset_from_directory(train_dir, seed=123, shuffle=True)\n",
        "test_ds = tf.keras.utils.image_dataset_from_directory(test_dir, seed=123)\n",
        "val_ds = tf.keras.utils.image_dataset_from_directory(val_dir, seed=123)\n"
      ]
    },
    {
      "cell_type": "code",
      "execution_count": 125,
      "metadata": {
        "id": "CKdBVIL8xuIj"
      },
      "outputs": [],
      "source": [
        "#below are the preprocessing layers\n",
        "\n",
        "# Normalizes the data\n",
        "rescale = tf.keras.Sequential([\n",
        "  layers.Rescaling(1./255.0)\n",
        "])"
      ]
    },
    {
      "cell_type": "code",
      "execution_count": 126,
      "metadata": {
        "id": "KnkNMYGOyBmI"
      },
      "outputs": [],
      "source": [
        "# Configure the dataset for performance\n",
        "AUTOTUNE = tf.data.AUTOTUNE\n",
        "\n",
        "train_ds = train_ds.cache().prefetch(buffer_size=AUTOTUNE)\n",
        "val_ds = val_ds.cache().prefetch(buffer_size=AUTOTUNE)"
      ]
    },
    {
      "cell_type": "code",
      "execution_count": 127,
      "metadata": {
        "id": "wWSkAmK8yQbO"
      },
      "outputs": [],
      "source": [
        "num_classes = 2\n",
        "model = tf.keras.models.Sequential()\n",
        "model.add(rescale) #normalizing\n",
        "model.add(tf.keras.layers.Conv2D(filters=96, kernel_size=(11,11), strides=(4,4), activation='relu', input_shape=(256,256,3)))\n",
        "model.add(tf.keras.layers.MaxPool2D(pool_size=(3,3), strides=(2,2)))\n",
        "model.add(tf.keras.layers.BatchNormalization())\n",
        "model.add(tf.keras.layers.Conv2D(filters=256, kernel_size=(5,5), strides=(1,1), activation='relu', padding=\"same\"))\n",
        "model.add(tf.keras.layers.MaxPool2D(pool_size=(3,3), strides=(2,2)))\n",
        "model.add(tf.keras.layers.BatchNormalization())\n",
        "model.add(tf.keras.layers.Conv2D(filters=384, kernel_size=(3,3), strides=(1,1), activation='relu', padding=\"same\"))\n",
        "model.add(tf.keras.layers.Conv2D(filters=384, kernel_size=(3,3), strides=(1,1), activation='relu', padding=\"same\"))\n",
        "model.add(tf.keras.layers.Conv2D(filters=256, kernel_size=(3,3), strides=(1,1), activation='relu', padding=\"same\"))\n",
        "model.add(tf.keras.layers.MaxPool2D(pool_size=(3,3), strides=(2,2)))\n",
        "model.add(tf.keras.layers.Flatten())\n",
        "model.add(tf.keras.layers.Dense(4096, activation='relu'))\n",
        "model.add(tf.keras.layers.Dropout(0.3)) #dropout added\n",
        "model.add(tf.keras.layers.Dense(4096, activation='relu'))\n",
        "model.add(tf.keras.layers.Dropout(0.3)) #dropout added\n",
        "model.add(tf.keras.layers.Dense(num_classes, activation='softmax'))"
      ]
    },
    {
      "cell_type": "code",
      "execution_count": 132,
      "metadata": {
        "colab": {
          "base_uri": "https://localhost:8080/"
        },
        "id": "iTJKaTsfyzgo",
        "outputId": "511d775b-191d-4e67-f08b-d157133ab8cd"
      },
      "outputs": [
        {
          "output_type": "stream",
          "name": "stdout",
          "text": [
            "Epoch 1/20\n",
            "84/84 [==============================] - 6s 59ms/step - loss: 0.0988 - accuracy: 0.9609 - val_loss: 0.1788 - val_accuracy: 0.8750\n",
            "Epoch 2/20\n",
            "84/84 [==============================] - 5s 57ms/step - loss: 0.1257 - accuracy: 0.9635 - val_loss: 0.0185 - val_accuracy: 1.0000\n",
            "Epoch 3/20\n",
            "84/84 [==============================] - 5s 57ms/step - loss: 0.1380 - accuracy: 0.9534 - val_loss: 0.0531 - val_accuracy: 1.0000\n",
            "Epoch 4/20\n",
            "84/84 [==============================] - 5s 57ms/step - loss: 0.1157 - accuracy: 0.9631 - val_loss: 0.0716 - val_accuracy: 0.9375\n",
            "Epoch 5/20\n",
            "84/84 [==============================] - 5s 57ms/step - loss: 0.0898 - accuracy: 0.9672 - val_loss: 2.0594 - val_accuracy: 0.8125\n",
            "Epoch 6/20\n",
            "84/84 [==============================] - 5s 57ms/step - loss: 0.3785 - accuracy: 0.9612 - val_loss: 0.6650 - val_accuracy: 0.9375\n",
            "Epoch 7/20\n",
            "84/84 [==============================] - 5s 57ms/step - loss: 0.4706 - accuracy: 0.8725 - val_loss: 0.0533 - val_accuracy: 1.0000\n",
            "Epoch 8/20\n",
            "84/84 [==============================] - 5s 57ms/step - loss: 0.1092 - accuracy: 0.9556 - val_loss: 0.0222 - val_accuracy: 1.0000\n",
            "Epoch 9/20\n",
            "84/84 [==============================] - 5s 57ms/step - loss: 0.0728 - accuracy: 0.9758 - val_loss: 0.0794 - val_accuracy: 0.9375\n",
            "Epoch 10/20\n",
            "84/84 [==============================] - 5s 57ms/step - loss: 0.0705 - accuracy: 0.9728 - val_loss: 0.0055 - val_accuracy: 1.0000\n",
            "Epoch 11/20\n",
            "84/84 [==============================] - 5s 57ms/step - loss: 0.0491 - accuracy: 0.9795 - val_loss: 0.0191 - val_accuracy: 1.0000\n",
            "Epoch 12/20\n",
            "84/84 [==============================] - 5s 57ms/step - loss: 0.0501 - accuracy: 0.9836 - val_loss: 4.2220e-04 - val_accuracy: 1.0000\n",
            "Epoch 13/20\n",
            "84/84 [==============================] - 5s 57ms/step - loss: 0.0581 - accuracy: 0.9806 - val_loss: 0.8392 - val_accuracy: 0.9375\n",
            "Epoch 14/20\n",
            "84/84 [==============================] - 5s 57ms/step - loss: 0.0437 - accuracy: 0.9851 - val_loss: 0.0549 - val_accuracy: 0.9375\n",
            "Epoch 15/20\n",
            "84/84 [==============================] - 5s 57ms/step - loss: 0.0200 - accuracy: 0.9925 - val_loss: 2.1521 - val_accuracy: 0.8125\n",
            "Epoch 16/20\n",
            "84/84 [==============================] - 5s 57ms/step - loss: 0.0447 - accuracy: 0.9873 - val_loss: 0.5335 - val_accuracy: 0.8125\n",
            "Epoch 17/20\n",
            "84/84 [==============================] - 5s 57ms/step - loss: 0.0328 - accuracy: 0.9914 - val_loss: 2.7953e-04 - val_accuracy: 1.0000\n",
            "Epoch 18/20\n",
            "84/84 [==============================] - 5s 58ms/step - loss: 0.0371 - accuracy: 0.9884 - val_loss: 0.0039 - val_accuracy: 1.0000\n",
            "Epoch 19/20\n",
            "84/84 [==============================] - 5s 58ms/step - loss: 0.0742 - accuracy: 0.9784 - val_loss: 0.1647 - val_accuracy: 0.9375\n",
            "Epoch 20/20\n",
            "84/84 [==============================] - 5s 58ms/step - loss: 0.0753 - accuracy: 0.9806 - val_loss: 0.0220 - val_accuracy: 1.0000\n"
          ]
        }
      ],
      "source": [
        "model.compile(\n",
        "  optimizer='adam',\n",
        "  loss=tf.keras.losses.SparseCategoricalCrossentropy(from_logits=True),\n",
        "  metrics=['accuracy'])\n",
        "\n",
        "history = model.fit(  train_ds,\n",
        "  validation_data=val_ds,\n",
        "  batch_size = 128,\n",
        "  epochs=20)"
      ]
    },
    {
      "cell_type": "code",
      "execution_count": 134,
      "metadata": {
        "colab": {
          "base_uri": "https://localhost:8080/"
        },
        "id": "dp8i9NO87yN7",
        "outputId": "cd965813-f369-4a0a-d008-d34c762186cf"
      },
      "outputs": [
        {
          "output_type": "stream",
          "name": "stdout",
          "text": [
            "20/20 [==============================] - 2s 67ms/step - loss: 1.2519 - accuracy: 0.7997\n"
          ]
        }
      ],
      "source": [
        "score = model.evaluate(test_ds)"
      ]
    }
  ],
  "metadata": {
    "accelerator": "GPU",
    "colab": {
      "machine_shape": "hm",
      "provenance": []
    },
    "gpuClass": "premium",
    "kernelspec": {
      "display_name": "Python 3",
      "name": "python3"
    },
    "language_info": {
      "name": "python"
    }
  },
  "nbformat": 4,
  "nbformat_minor": 0
}